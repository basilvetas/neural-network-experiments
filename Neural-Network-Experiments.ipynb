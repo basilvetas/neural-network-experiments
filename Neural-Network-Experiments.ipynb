{
 "cells": [
  {
   "cell_type": "code",
   "execution_count": 1,
   "metadata": {},
   "outputs": [],
   "source": [
    "import numpy as np"
   ]
  },
  {
   "cell_type": "code",
   "execution_count": 2,
   "metadata": {},
   "outputs": [],
   "source": [
    "#Input array\n",
    "X=np.array([[1,0,1,0],[1,0,1,1],[0,1,0,1]])\n",
    "\n",
    "#Output\n",
    "y=np.array([[1],[1],[0]])"
   ]
  },
  {
   "cell_type": "code",
   "execution_count": 3,
   "metadata": {},
   "outputs": [
    {
     "name": "stdout",
     "output_type": "stream",
     "text": [
      "(4, 3)\n",
      "(1, 3)\n",
      "(3, 1)\n",
      "(1, 1)\n"
     ]
    }
   ],
   "source": [
    "# Sigmoid Function\n",
    "def sigmoid (x):\n",
    "    return 1/(1 + np.exp(-x))\n",
    "\n",
    "# Derivative of Sigmoid Function\n",
    "def d_dx_sigmoid(x):\n",
    "    return x * (1 - x)\n",
    "\n",
    "# Variable initialization\n",
    "epochs = 5000 #Setting training iterations\n",
    "learn_rate=0.1 #Setting learning rate\n",
    "\n",
    "input_neurons = X.shape[1] # number of features in data set\n",
    "\n",
    "hidden_neurons = 3 # number of hidden layers neurons\n",
    "\n",
    "output_neurons = 1 #number of neurons at output layer\n",
    "\n",
    "# hidden layer weights and bias random uniform initialization\n",
    "np.random.seed(42)\n",
    "w_h = np.random.uniform(size=(input_neurons, hidden_neurons))\n",
    "print(w_h.shape)\n",
    "\n",
    "np.random.seed(42)\n",
    "b_h = np.random.uniform(size=(1, hidden_neurons))\n",
    "print(b_h.shape)\n",
    "\n",
    "# output layer weights and bias random uniform initialization\n",
    "np.random.seed(42)\n",
    "w_out = np.random.uniform(size=(hidden_neurons, output_neurons))\n",
    "print(w_out.shape)\n",
    "\n",
    "np.random.seed(42)\n",
    "b_out = np.random.uniform(size=(1, output_neurons))\n",
    "print(b_out.shape)"
   ]
  },
  {
   "cell_type": "code",
   "execution_count": 10,
   "metadata": {},
   "outputs": [
    {
     "name": "stdout",
     "output_type": "stream",
     "text": [
      "[[0.99343014]\n",
      " [0.99063239]\n",
      " [0.01244544]]\n"
     ]
    }
   ],
   "source": [
    "for i in range(epochs):\n",
    "\n",
    "    # forward propogation\n",
    "    input_hidden_layer = np.dot(X, w_h) + b_h\n",
    "    \n",
    "    activations_hidden_layer = sigmoid(input_hidden_layer)\n",
    "    \n",
    "    input_output_layer = np.dot(activations_hidden_layer, w_out) + b_out\n",
    "    \n",
    "    output = sigmoid(input_output_layer)\n",
    "\n",
    "    # backpropagation\n",
    "    error = y - output\n",
    "    \n",
    "    gradient_output_layer = d_dx_sigmoid(output) # 3 x 1\n",
    "    \n",
    "    gradient_hidden_layer = d_dx_sigmoid(activations_hidden_layer) # 3 x 3 \n",
    "    \n",
    "    delta_output = error * gradient_output_layer\n",
    "    \n",
    "    error_hidden_layer = delta_output.dot(w_out.T)\n",
    "    \n",
    "    delta_hidden_layer = error_hidden_layer * gradient_hidden_layer\n",
    "    \n",
    "    w_out += activations_hidden_layer.T.dot(delta_output) * learn_rate\n",
    "    b_out += np.sum(delta_output, axis=0, keepdims=True) * learn_rate\n",
    "    \n",
    "    w_h += X.T.dot(delta_hidden_layer) * learn_rate\n",
    "    b_h += np.sum(delta_hidden_layer, axis=0, keepdims=True) * learn_rate\n",
    "\n",
    "print(output)"
   ]
  },
  {
   "cell_type": "code",
   "execution_count": null,
   "metadata": {},
   "outputs": [],
   "source": []
  }
 ],
 "metadata": {
  "kernelspec": {
   "display_name": "Python 3",
   "language": "python",
   "name": "python3"
  },
  "language_info": {
   "codemirror_mode": {
    "name": "ipython",
    "version": 3
   },
   "file_extension": ".py",
   "mimetype": "text/x-python",
   "name": "python",
   "nbconvert_exporter": "python",
   "pygments_lexer": "ipython3",
   "version": "3.6.4"
  }
 },
 "nbformat": 4,
 "nbformat_minor": 2
}
